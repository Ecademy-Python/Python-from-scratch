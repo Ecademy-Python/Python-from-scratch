{
  "nbformat": 4,
  "nbformat_minor": 0,
  "metadata": {
    "colab": {
      "name": "Introduction to Python.ipynb",
      "provenance": [],
      "authorship_tag": "ABX9TyNW2gdY+BSqSU39gMzNy6tI",
      "include_colab_link": true
    },
    "kernelspec": {
      "name": "python3",
      "display_name": "Python 3"
    }
  },
  "cells": [
    {
      "cell_type": "markdown",
      "metadata": {
        "id": "view-in-github",
        "colab_type": "text"
      },
      "source": [
        "<a href=\"https://colab.research.google.com/github/Ecademy-Python/Python-from-scratch/blob/master/Introduction_to_Python.ipynb\" target=\"_parent\"><img src=\"https://colab.research.google.com/assets/colab-badge.svg\" alt=\"Open In Colab\"/></a>"
      ]
    },
    {
      "cell_type": "markdown",
      "metadata": {
        "id": "hGRyM_7m0pNR",
        "colab_type": "text"
      },
      "source": [
        "# Python-from-Scratch\n",
        "Hello and welcome to this course Python-from-scratch,\n",
        "My name is Muhammad Asfand yar and i'll be your instructor for this course,\n"
      ]
    },
    {
      "cell_type": "code",
      "metadata": {
        "id": "d80o9QDAzW5u",
        "colab_type": "code",
        "colab": {}
      },
      "source": [
        ""
      ],
      "execution_count": 0,
      "outputs": []
    }
  ]
}